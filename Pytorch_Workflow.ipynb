{
  "nbformat": 4,
  "nbformat_minor": 0,
  "metadata": {
    "colab": {
      "provenance": [],
      "authorship_tag": "ABX9TyO93J1f3nsRV1k/nHrWWFWq",
      "include_colab_link": true
    },
    "kernelspec": {
      "name": "python3",
      "display_name": "Python 3"
    },
    "language_info": {
      "name": "python"
    }
  },
  "cells": [
    {
      "cell_type": "markdown",
      "metadata": {
        "id": "view-in-github",
        "colab_type": "text"
      },
      "source": [
        "<a href=\"https://colab.research.google.com/github/As2909/Pytorch-Zero-To-Mastery/blob/main/Pytorch_Workflow.ipynb\" target=\"_parent\"><img src=\"https://colab.research.google.com/assets/colab-badge.svg\" alt=\"Open In Colab\"/></a>"
      ]
    },
    {
      "cell_type": "code",
      "execution_count": null,
      "metadata": {
        "id": "b-SNkvb8e6qQ"
      },
      "outputs": [],
      "source": [
        "import torch\n",
        "from torch import nn # nn contains all Pytorch's buliding blocks for\n",
        "import matplotlib.pyplot as plt\n"
      ]
    },
    {
      "cell_type": "code",
      "source": [
        "torch.__version__"
      ],
      "metadata": {
        "colab": {
          "base_uri": "https://localhost:8080/",
          "height": 35
        },
        "id": "R45nsH07hJ64",
        "outputId": "f4631dd6-e77e-456c-e536-1ba513f955f0"
      },
      "execution_count": null,
      "outputs": [
        {
          "output_type": "execute_result",
          "data": {
            "text/plain": [
              "'2.3.0+cu121'"
            ],
            "application/vnd.google.colaboratory.intrinsic+json": {
              "type": "string"
            }
          },
          "metadata": {},
          "execution_count": 3
        }
      ]
    },
    {
      "cell_type": "code",
      "source": [
        "weight = 0.7\n",
        "bias = 0.3\n",
        "\n",
        "start = 0\n",
        "end = 1\n",
        "step = 0.02\n",
        "X = torch.arange(start, end, step).unsqueeze(dim=1)\n",
        "y = weight * X + bias\n",
        "\n",
        "X[:10], y[:10]"
      ],
      "metadata": {
        "colab": {
          "base_uri": "https://localhost:8080/"
        },
        "id": "HM8iKtvmhlqC",
        "outputId": "405dc62a-c113-44a5-b6e1-4b675bd54bd7"
      },
      "execution_count": null,
      "outputs": [
        {
          "output_type": "execute_result",
          "data": {
            "text/plain": [
              "(tensor([[0.0000],\n",
              "         [0.0200],\n",
              "         [0.0400],\n",
              "         [0.0600],\n",
              "         [0.0800],\n",
              "         [0.1000],\n",
              "         [0.1200],\n",
              "         [0.1400],\n",
              "         [0.1600],\n",
              "         [0.1800]]),\n",
              " tensor([[0.3000],\n",
              "         [0.3140],\n",
              "         [0.3280],\n",
              "         [0.3420],\n",
              "         [0.3560],\n",
              "         [0.3700],\n",
              "         [0.3840],\n",
              "         [0.3980],\n",
              "         [0.4120],\n",
              "         [0.4260]]))"
            ]
          },
          "metadata": {},
          "execution_count": 4
        }
      ]
    },
    {
      "cell_type": "code",
      "source": [
        "len(X), len(y)"
      ],
      "metadata": {
        "colab": {
          "base_uri": "https://localhost:8080/"
        },
        "id": "OTQmOxG3it0z",
        "outputId": "f3e46f85-4e47-424e-8892-3631982a57e8"
      },
      "execution_count": null,
      "outputs": [
        {
          "output_type": "execute_result",
          "data": {
            "text/plain": [
              "(50, 50)"
            ]
          },
          "metadata": {},
          "execution_count": 5
        }
      ]
    },
    {
      "cell_type": "code",
      "source": [
        "split_data = int(0.8 * len(X))\n",
        "X_train, y_train = X[:split_data], y[:split_data]\n",
        "X_test, y_test = X[split_data:], y[split_data:]\n",
        "\n",
        "len(X_train), len(y_train), len(X_test), len(y_test)"
      ],
      "metadata": {
        "colab": {
          "base_uri": "https://localhost:8080/"
        },
        "id": "f6QY_VACjYpb",
        "outputId": "d25cdfb1-91a2-4820-b577-9a469edffd45"
      },
      "execution_count": null,
      "outputs": [
        {
          "output_type": "execute_result",
          "data": {
            "text/plain": [
              "(40, 40, 10, 10)"
            ]
          },
          "metadata": {},
          "execution_count": 6
        }
      ]
    },
    {
      "cell_type": "code",
      "source": [
        "def plot_predictions(train_data=X_train,\n",
        "                    train_labels=y_train,\n",
        "                    test_data=X_test,\n",
        "                    test_labels=y_test,\n",
        "                    predictions=None):\n",
        "  plt.figure(figsize=(10, 7))\n",
        "\n",
        "  #plotting training data in blue\n",
        "  plt.scatter(train_data, train_labels, c=\"b\", s=4, label=\"Training_data\")\n",
        "\n",
        "  #plotting testing_data in green\n",
        "  plt.scatter(test_data, test_labels, c=\"g\", s=4, label=\"Testing_data\")\n",
        "\n",
        "  # Are there predictions?\n",
        "  if predictions is not None:\n",
        "    plt.scatter(test_data, predictions, c=\"r\", s=4, label=\"Predictions\")\n",
        "\n",
        "  plt.legend(prop={\"size\": 12})"
      ],
      "metadata": {
        "id": "xcPYNa8JOwSU"
      },
      "execution_count": null,
      "outputs": []
    },
    {
      "cell_type": "code",
      "source": [
        "plot_predictions();"
      ],
      "metadata": {
        "colab": {
          "base_uri": "https://localhost:8080/",
          "height": 599
        },
        "id": "MgtcY1OkQiJG",
        "outputId": "d370105e-a672-44b7-dcaf-fab2cae74fb1"
      },
      "execution_count": null,
      "outputs": [
        {
          "output_type": "display_data",
          "data": {
            "text/plain": [
              "<Figure size 1000x700 with 1 Axes>"
            ],
            "image/png": "[encoded data removed]"
          },
          "metadata": {}
        }
      ]
    },
    {
      "cell_type": "code",
      "source": [
        "# create linear regression model class\n",
        "class LinearRegressinModelV2(nn.Module): # almost everthing in pytorch inherits from nn.module\n",
        "  def __init__(self):\n",
        "    super().__init__()\n",
        "    # Intialize Model Parameters\n",
        "    self.weights = nn.Parameter(torch.randn(1,\n",
        "                                            requires_grad=True,\n",
        "                                            dtype=torch.float32))\n",
        "    self.bias = nn.Parameter(torch.randn(1,\n",
        "                                         requires_grad=True,\n",
        "                                         dtype=torch.float32))\n",
        "\n",
        "  def forward(self, x:torch.Tensor) -> torch.Tensor:\n",
        "    return self.weights * x + self.bias"
      ],
      "metadata": {
        "id": "iFoST7UMQywF"
      },
      "execution_count": null,
      "outputs": []
    },
    {
      "cell_type": "code",
      "source": [],
      "metadata": {
        "id": "9odpX2sSTpq4"
      },
      "execution_count": null,
      "outputs": []
    },
    {
      "cell_type": "code",
      "source": [
        "### Pytorch model building essentials\n",
        "# * torch.nn - contains all of the building blocks for computational graphs\n",
        "# * torch.optim - contains various optimization algorithms\n",
        "# * torch.nn.functional -"
      ],
      "metadata": {
        "id": "71dmymo7X7T4"
      },
      "execution_count": null,
      "outputs": []
    },
    {
      "cell_type": "code",
      "source": [
        "# create a random seed\n",
        "torch.manual_seed(42)\n",
        "\n",
        "# create an instance of the model (this is a subclass of nn.module)\n",
        "model_O = LinearRegressinModelV2()\n",
        "\n",
        "# check out the parameters\n",
        "\n",
        "list(model_O.parameters())"
      ],
      "metadata": {
        "colab": {
          "base_uri": "https://localhost:8080/"
        },
        "id": "hh7iWdCicZl4",
        "outputId": "48668656-0597-4611-f52b-1b846f129733"
      },
      "execution_count": null,
      "outputs": [
        {
          "output_type": "execute_result",
          "data": {
            "text/plain": [
              "[Parameter containing:\n",
              " tensor([0.3367], requires_grad=True),\n",
              " Parameter containing:\n",
              " tensor([0.1288], requires_grad=True)]"
            ]
          },
          "metadata": {},
          "execution_count": 11
        }
      ]
    },
    {
      "cell_type": "code",
      "source": [
        "model_O.state_dict()"
      ],
      "metadata": {
        "colab": {
          "base_uri": "https://localhost:8080/"
        },
        "id": "Xnbk3bSBcr-F",
        "outputId": "d1ef3674-e4f7-406f-c8dd-814593babe5d"
      },
      "execution_count": null,
      "outputs": [
        {
          "output_type": "execute_result",
          "data": {
            "text/plain": [
              "OrderedDict([('weights', tensor([0.3367])), ('bias', tensor([0.1288]))])"
            ]
          },
          "metadata": {},
          "execution_count": 12
        }
      ]
    },
    {
      "cell_type": "code",
      "source": [
        "weight, bias"
      ],
      "metadata": {
        "colab": {
          "base_uri": "https://localhost:8080/"
        },
        "id": "euF0IRjuiDEE",
        "outputId": "c8dd116a-3dc5-48f6-c9e2-a4a8ec7a7b2f"
      },
      "execution_count": null,
      "outputs": [
        {
          "output_type": "execute_result",
          "data": {
            "text/plain": [
              "(0.7, 0.3)"
            ]
          },
          "metadata": {},
          "execution_count": 13
        }
      ]
    },
    {
      "cell_type": "code",
      "source": [
        "### Making prediction using \"torh.infernce_mode()\"\n",
        "with torch.inference_mode():\n",
        "  y_preds = model_O(X_test)\n",
        "\n",
        "y_preds\n",
        "\n",
        "#with torch.no_grad():\n",
        "#  y_preds = model_O(X_test)\n",
        "\n",
        "#y_preds"
      ],
      "metadata": {
        "colab": {
          "base_uri": "https://localhost:8080/"
        },
        "id": "2wlvfgdJiPKl",
        "outputId": "2135e616-177b-4b6c-bf6d-97cbbbd3bc07"
      },
      "execution_count": null,
      "outputs": [
        {
          "output_type": "execute_result",
          "data": {
            "text/plain": [
              "tensor([[0.3982],\n",
              "        [0.4049],\n",
              "        [0.4116],\n",
              "        [0.4184],\n",
              "        [0.4251],\n",
              "        [0.4318],\n",
              "        [0.4386],\n",
              "        [0.4453],\n",
              "        [0.4520],\n",
              "        [0.4588]])"
            ]
          },
          "metadata": {},
          "execution_count": 14
        }
      ]
    },
    {
      "cell_type": "code",
      "source": [
        "y_test"
      ],
      "metadata": {
        "colab": {
          "base_uri": "https://localhost:8080/"
        },
        "id": "KRuPgm5RjQwA",
        "outputId": "dc539aed-1df3-4c70-a1ba-724d7909f76a"
      },
      "execution_count": null,
      "outputs": [
        {
          "output_type": "execute_result",
          "data": {
            "text/plain": [
              "tensor([[0.8600],\n",
              "        [0.8740],\n",
              "        [0.8880],\n",
              "        [0.9020],\n",
              "        [0.9160],\n",
              "        [0.9300],\n",
              "        [0.9440],\n",
              "        [0.9580],\n",
              "        [0.9720],\n",
              "        [0.9860]])"
            ]
          },
          "metadata": {},
          "execution_count": 15
        }
      ]
    },
    {
      "cell_type": "code",
      "source": [
        "plot_predictions(predictions=y_preds)"
      ],
      "metadata": {
        "colab": {
          "base_uri": "https://localhost:8080/",
          "height": 599
        },
        "id": "V8q4YVf4k1KZ",
        "outputId": "6e47d503-d432-4581-9c82-56f4d641da49"
      },
      "execution_count": null,
      "outputs": [
        {
          "output_type": "display_data",
          "data": {
            "text/plain": [
              "<Figure size 1000x700 with 1 Axes>"
            ],
            "image/png": "[encoded data removed]"
          },
          "metadata": {}
        }
      ]
    },
    {
      "cell_type": "code",
      "source": [
        "list(model_O.parameters())"
      ],
      "metadata": {
        "colab": {
          "base_uri": "https://localhost:8080/"
        },
        "id": "uftc_wNfk6o2",
        "outputId": "30caaedb-12cf-4d31-8b7f-bf0a67cdc1d9"
      },
      "execution_count": null,
      "outputs": [
        {
          "output_type": "execute_result",
          "data": {
            "text/plain": [
              "[Parameter containing:\n",
              " tensor([0.3367], requires_grad=True),\n",
              " Parameter containing:\n",
              " tensor([0.1288], requires_grad=True)]"
            ]
          },
          "metadata": {},
          "execution_count": 17
        }
      ]
    },
    {
      "cell_type": "code",
      "source": [
        "model_O.state_dict()"
      ],
      "metadata": {
        "colab": {
          "base_uri": "https://localhost:8080/"
        },
        "id": "egHkCrcTm8ee",
        "outputId": "d105d85b-5ac7-4064-b64e-2297ddb0b9db"
      },
      "execution_count": null,
      "outputs": [
        {
          "output_type": "execute_result",
          "data": {
            "text/plain": [
              "OrderedDict([('weights', tensor([0.3367])), ('bias', tensor([0.1288]))])"
            ]
          },
          "metadata": {},
          "execution_count": 18
        }
      ]
    },
    {
      "cell_type": "code",
      "source": [
        "# Setup a loss function\n",
        "loss_fn = nn.L1Loss()\n",
        "\n",
        "#Steup an optimizer\n",
        "optimizer = torch.optim.SGD(params=model_O.parameters(),\n",
        "                             lr=0.01)"
      ],
      "metadata": {
        "id": "_R95PQYCm_I3"
      },
      "execution_count": null,
      "outputs": []
    },
    {
      "cell_type": "code",
      "source": [
        "list(model_O.parameters())"
      ],
      "metadata": {
        "colab": {
          "base_uri": "https://localhost:8080/"
        },
        "id": "Zee3thKdZmfE",
        "outputId": "ca409d94-d57e-4fe2-ef40-ed3e2834e65a"
      },
      "execution_count": null,
      "outputs": [
        {
          "output_type": "execute_result",
          "data": {
            "text/plain": [
              "[Parameter containing:\n",
              " tensor([0.3367], requires_grad=True),\n",
              " Parameter containing:\n",
              " tensor([0.1288], requires_grad=True)]"
            ]
          },
          "metadata": {},
          "execution_count": 20
        }
      ]
    },
    {
      "cell_type": "code",
      "source": [
        "## Building a training loop\n",
        "epochs = 200\n",
        "\n",
        "epoch_count = []\n",
        "loss_values = []\n",
        "test_loss_values = []\n",
        "for epoch in range(epochs):\n",
        "  model_O.train()\n",
        "  y_pred = model_O(X_train)\n",
        "\n",
        "  loss = loss_fn(y_pred, y_train)\n",
        "  loss_values.append(loss)\n",
        "\n",
        "  epoch_count.append(epoch)\n",
        "\n",
        "  optimizer.zero_grad()\n",
        "  loss.backward()\n",
        "  optimizer.step()\n",
        "\n",
        "  model_O.eval()\n",
        "  with torch.inference_mode():\n",
        "    test_pred = model_O(X_test)\n",
        "    test_loss = loss_fn(test_pred, y_test)\n",
        "    test_loss_values.append(test_loss)\n",
        "\n",
        "  if epoch % 10 == 0:\n",
        "    print(f\"Epoch: {epoch} | Loss: {loss} | Test loss: {test_loss}\")"
      ],
      "metadata": {
        "colab": {
          "base_uri": "https://localhost:8080/"
        },
        "id": "jo5uva6MoB6H",
        "outputId": "039280d3-f58f-498f-f310-b69cf5b6c6de"
      },
      "execution_count": null,
      "outputs": [
        {
          "output_type": "stream",
          "name": "stdout",
          "text": [
            "Epoch: 0 | Loss: 0.31288138031959534 | Test loss: 0.48106518387794495\n",
            "Epoch: 10 | Loss: 0.1976713240146637 | Test loss: 0.3463551998138428\n",
            "Epoch: 20 | Loss: 0.08908725529909134 | Test loss: 0.21729660034179688\n",
            "Epoch: 30 | Loss: 0.053148526698350906 | Test loss: 0.14464017748832703\n",
            "Epoch: 40 | Loss: 0.04543796554207802 | Test loss: 0.11360953003168106\n",
            "Epoch: 50 | Loss: 0.04167863354086876 | Test loss: 0.09919948130846024\n",
            "Epoch: 60 | Loss: 0.03818932920694351 | Test loss: 0.08886633068323135\n",
            "Epoch: 70 | Loss: 0.03476089984178543 | Test loss: 0.0805937647819519\n",
            "Epoch: 80 | Loss: 0.03132382780313492 | Test loss: 0.07232122868299484\n",
            "Epoch: 90 | Loss: 0.02788739837706089 | Test loss: 0.06473556160926819\n",
            "Epoch: 100 | Loss: 0.024458957836031914 | Test loss: 0.05646304413676262\n",
            "Epoch: 110 | Loss: 0.021020207554101944 | Test loss: 0.04819049686193466\n",
            "Epoch: 120 | Loss: 0.01758546568453312 | Test loss: 0.04060482233762741\n",
            "Epoch: 130 | Loss: 0.014155393466353416 | Test loss: 0.03233227878808975\n",
            "Epoch: 140 | Loss: 0.010716589167714119 | Test loss: 0.024059748277068138\n",
            "Epoch: 150 | Loss: 0.0072835334576666355 | Test loss: 0.016474086791276932\n",
            "Epoch: 160 | Loss: 0.0038517764769494534 | Test loss: 0.008201557211577892\n",
            "Epoch: 170 | Loss: 0.008932482451200485 | Test loss: 0.005023092031478882\n",
            "Epoch: 180 | Loss: 0.008932482451200485 | Test loss: 0.005023092031478882\n",
            "Epoch: 190 | Loss: 0.008932482451200485 | Test loss: 0.005023092031478882\n"
          ]
        }
      ]
    },
    {
      "cell_type": "code",
      "source": [
        "model_O.state_dict()"
      ],
      "metadata": {
        "colab": {
          "base_uri": "https://localhost:8080/"
        },
        "id": "U1TrYIVNoD6m",
        "outputId": "be54aa8f-a237-4445-fdb7-97306a317f4c"
      },
      "execution_count": null,
      "outputs": [
        {
          "output_type": "execute_result",
          "data": {
            "text/plain": [
              "OrderedDict([('weights', tensor([0.6990])), ('bias', tensor([0.3093]))])"
            ]
          },
          "metadata": {},
          "execution_count": 22
        }
      ]
    },
    {
      "cell_type": "code",
      "source": [
        "with torch.inference_mode():\n",
        "  y_pred_new = model_O(X_test)\n",
        "y_pred_new"
      ],
      "metadata": {
        "colab": {
          "base_uri": "https://localhost:8080/"
        },
        "id": "gC2PJ3bbi7Co",
        "outputId": "a5fc5f8c-14ce-4009-9bca-0aee0c0d2566"
      },
      "execution_count": null,
      "outputs": [
        {
          "output_type": "execute_result",
          "data": {
            "text/plain": [
              "tensor([[0.8685],\n",
              "        [0.8825],\n",
              "        [0.8965],\n",
              "        [0.9105],\n",
              "        [0.9245],\n",
              "        [0.9384],\n",
              "        [0.9524],\n",
              "        [0.9664],\n",
              "        [0.9804],\n",
              "        [0.9944]])"
            ]
          },
          "metadata": {},
          "execution_count": 23
        }
      ]
    },
    {
      "cell_type": "code",
      "source": [
        "plot_predictions(predictions=y_pred_new)"
      ],
      "metadata": {
        "colab": {
          "base_uri": "https://localhost:8080/",
          "height": 599
        },
        "id": "0YJfZGAFlOUi",
        "outputId": "c154a62d-f8d8-4ef6-d95d-a87f0d350e6d"
      },
      "execution_count": null,
      "outputs": [
        {
          "output_type": "display_data",
          "data": {
            "text/plain": [
              "<Figure size 1000x700 with 1 Axes>"
            ],
            "image/png": "[encoded data removed]"
          },
          "metadata": {}
        }
      ]
    },
    {
      "cell_type": "code",
      "source": [
        "import numpy as np\n",
        "\n",
        "np.array(torch.tensor(loss_values).cpu().numpy())"
      ],
      "metadata": {
        "colab": {
          "base_uri": "https://localhost:8080/"
        },
        "id": "rJ-jdv-7shCT",
        "outputId": "19fbed61-0749-4755-e70b-7129d6fdce48"
      },
      "execution_count": null,
      "outputs": [
        {
          "output_type": "execute_result",
          "data": {
            "text/plain": [
              "array([0.31288138, 0.30136034, 0.28983936, 0.27831835, 0.26679736,\n",
              "       0.25527635, 0.24375534, 0.23223433, 0.22071333, 0.20919232,\n",
              "       0.19767132, 0.18615034, 0.17462933, 0.16310832, 0.15158734,\n",
              "       0.14006636, 0.12854536, 0.11702438, 0.10609122, 0.09681284,\n",
              "       0.08908726, 0.08227583, 0.07638873, 0.07160007, 0.06747635,\n",
              "       0.06395438, 0.06097005, 0.05845819, 0.05635259, 0.05458578,\n",
              "       0.05314853, 0.05181945, 0.05069301, 0.04982285, 0.04895269,\n",
              "       0.04819351, 0.04753182, 0.04692793, 0.04642332, 0.04591871,\n",
              "       0.04543797, 0.04503796, 0.04463796, 0.04423796, 0.04383796,\n",
              "       0.04343796, 0.04307463, 0.04272563, 0.04237663, 0.04202763,\n",
              "       0.04167863, 0.04132963, 0.04098063, 0.04063163, 0.04028264,\n",
              "       0.03993364, 0.03958464, 0.03923564, 0.03888664, 0.03853764,\n",
              "       0.03818933, 0.03785244, 0.03750344, 0.03716412, 0.03681822,\n",
              "       0.03647511, 0.03613304, 0.0357861 , 0.03544784, 0.03509884,\n",
              "       0.0347609 , 0.03441364, 0.03407188, 0.03372844, 0.03338287,\n",
              "       0.03304323, 0.03269423, 0.03235766, 0.03200904, 0.03166865,\n",
              "       0.03132383, 0.03097964, 0.03063862, 0.03029063, 0.02995343,\n",
              "       0.02960443, 0.02926542, 0.02891922, 0.02857641, 0.02823403,\n",
              "       0.0278874 , 0.02754883, 0.02719982, 0.02686219, 0.02651462,\n",
              "       0.02617318, 0.02582942, 0.02548417, 0.02514421, 0.02479522,\n",
              "       0.02445896, 0.02411001, 0.02376995, 0.02342481, 0.02308094,\n",
              "       0.02273961, 0.02239193, 0.02205441, 0.02170541, 0.02136672,\n",
              "       0.02102021, 0.02067771, 0.020335  , 0.0199887 , 0.0196498 ,\n",
              "       0.01930081, 0.01896349, 0.0186156 , 0.01827448, 0.0179304 ,\n",
              "       0.01758547, 0.0172452 , 0.01689645, 0.01656   , 0.016211  ,\n",
              "       0.01587125, 0.0155258 , 0.01518224, 0.0148406 , 0.01449323,\n",
              "       0.01415539, 0.0138064 , 0.01346802, 0.01312119, 0.01277901,\n",
              "       0.01243599, 0.01209   , 0.0117508 , 0.01140179, 0.01106479,\n",
              "       0.01071659, 0.01037578, 0.01003139, 0.00968676, 0.00934619,\n",
              "       0.00899776, 0.00866098, 0.00831199, 0.00797254, 0.00762679,\n",
              "       0.00728353, 0.00694158, 0.00659453, 0.00625638, 0.00590738,\n",
              "       0.00556932, 0.00522218, 0.00488031, 0.00453698, 0.0041913 ,\n",
              "       0.00385178, 0.00350277, 0.00316608, 0.00281757, 0.00247707,\n",
              "       0.00213237, 0.00178806, 0.00145183, 0.00118878, 0.00258851,\n",
              "       0.00893248, 0.00258851, 0.00893248, 0.00258851, 0.00893248,\n",
              "       0.00258851, 0.00893248, 0.00258851, 0.00893248, 0.00258851,\n",
              "       0.00893248, 0.00258851, 0.00893248, 0.00258851, 0.00893248,\n",
              "       0.00258851, 0.00893248, 0.00258851, 0.00893248, 0.00258851,\n",
              "       0.00893248, 0.00258851, 0.00893248, 0.00258851, 0.00893248,\n",
              "       0.00258851, 0.00893248, 0.00258851, 0.00893248, 0.00258851],\n",
              "      dtype=float32)"
            ]
          },
          "metadata": {},
          "execution_count": 25
        }
      ]
    },
    {
      "cell_type": "code",
      "source": [
        "plt.plot(epoch_count, torch.tensor(loss_values), label=\"Train Loss\")\n",
        "plt.plot(epoch_count, test_loss_values, label=\"Test Loss\")\n",
        "plt.title(\"Training and test loss curves\")\n",
        "plt.ylabel(\"Loss\")\n",
        "plt.xlabel(\"Epochs\")\n",
        "plt.legend()"
      ],
      "metadata": {
        "colab": {
          "base_uri": "https://localhost:8080/",
          "height": 489
        },
        "id": "ITpWS3HvlZot",
        "outputId": "04440553-6f29-4500-ffd8-19baa18ad9d1"
      },
      "execution_count": null,
      "outputs": [
        {
          "output_type": "execute_result",
          "data": {
            "text/plain": [
              "<matplotlib.legend.Legend at 0x786887e14520>"
            ]
          },
          "metadata": {},
          "execution_count": 26
        },
        {
          "output_type": "display_data",
          "data": {
            "text/plain": [
              "<Figure size 640x480 with 1 Axes>"
            ],
            "image/png": "[encoded data removed]"
          },
          "metadata": {}
        }
      ]
    },
    {
      "cell_type": "code",
      "source": [
        "from pathlib import Path\n",
        "MODEL_PATH = Path(\"models\")\n",
        "MODEL_PATH.mkdir(parents=True, exist_ok=True)\n",
        "\n",
        "MODEL_NAME = \"01_pytorch_worflow_model_class.pth\"\n",
        "MODEL_SAVE_PATH = MODEL_PATH / MODEL_NAME\n",
        "\n",
        "print(f\"Saving model to: {MODEL_SAVE_PATH}\")\n",
        "torch.save(obj=model_O.state_dict(), f=MODEL_SAVE_PATH)"
      ],
      "metadata": {
        "colab": {
          "base_uri": "https://localhost:8080/"
        },
        "id": "SlnDag8Oscaf",
        "outputId": "4a94d00d-89bc-4625-9df2-706fa42303b5"
      },
      "execution_count": null,
      "outputs": [
        {
          "output_type": "stream",
          "name": "stdout",
          "text": [
            "Saving model to: models/01_pytorch_worflow_model_class.pth\n"
          ]
        }
      ]
    },
    {
      "cell_type": "code",
      "source": [
        "#torch.save(obj=model_O.state_dict(), f=MODEL_SAVE_PATH)"
      ],
      "metadata": {
        "id": "GAkfibFrFdCb"
      },
      "execution_count": null,
      "outputs": []
    },
    {
      "cell_type": "code",
      "source": [
        "!ls -l models"
      ],
      "metadata": {
        "colab": {
          "base_uri": "https://localhost:8080/"
        },
        "id": "s4CTdUo2xX06",
        "outputId": "03fdd84d-8490-4825-f2f2-8b133e0dfe54"
      },
      "execution_count": null,
      "outputs": [
        {
          "output_type": "stream",
          "name": "stdout",
          "text": [
            "total 4\n",
            "-rw-r--r-- 1 root root 1698 Jul  1 11:02 01_pytorch_worflow_model_class.pth\n"
          ]
        }
      ]
    },
    {
      "cell_type": "code",
      "source": [
        "model_O.state_dict()"
      ],
      "metadata": {
        "colab": {
          "base_uri": "https://localhost:8080/"
        },
        "id": "CZ9u_ZJcyxZ-",
        "outputId": "11fc62d0-3468-4811-940c-89a1a68bd64a"
      },
      "execution_count": null,
      "outputs": [
        {
          "output_type": "execute_result",
          "data": {
            "text/plain": [
              "OrderedDict([('weights', tensor([0.6990])), ('bias', tensor([0.3093]))])"
            ]
          },
          "metadata": {},
          "execution_count": 30
        }
      ]
    },
    {
      "cell_type": "code",
      "source": [
        "model_O_loaded = LinearRegressinModelV2()\n",
        "model_O_loaded.load_state_dict(torch.load(f=MODEL_SAVE_PATH))"
      ],
      "metadata": {
        "colab": {
          "base_uri": "https://localhost:8080/"
        },
        "id": "wI9k9qIayVx_",
        "outputId": "4410cb12-bbe1-4768-916a-a1a0ecc47fcc"
      },
      "execution_count": null,
      "outputs": [
        {
          "output_type": "execute_result",
          "data": {
            "text/plain": [
              "<All keys matched successfully>"
            ]
          },
          "metadata": {},
          "execution_count": 31
        }
      ]
    },
    {
      "cell_type": "code",
      "source": [
        "model_O_loaded.state_dict()"
      ],
      "metadata": {
        "id": "3tSaJn-iy1IJ",
        "colab": {
          "base_uri": "https://localhost:8080/"
        },
        "outputId": "ec444c78-bc4d-4241-bf0c-908846d981c0"
      },
      "execution_count": null,
      "outputs": [
        {
          "output_type": "execute_result",
          "data": {
            "text/plain": [
              "OrderedDict([('weights', tensor([0.6990])), ('bias', tensor([0.3093]))])"
            ]
          },
          "metadata": {},
          "execution_count": 32
        }
      ]
    },
    {
      "cell_type": "code",
      "source": [
        "model_O_loaded.eval()\n",
        "with torch.inference_mode():\n",
        "  y_pred_loaded = model_O_loaded(X_test)\n",
        "\n",
        "y_pred_loaded"
      ],
      "metadata": {
        "colab": {
          "base_uri": "https://localhost:8080/"
        },
        "id": "zd6b__6CF3Wt",
        "outputId": "ec144bc9-98c1-4a2b-c8ce-ef043d68d93b"
      },
      "execution_count": null,
      "outputs": [
        {
          "output_type": "execute_result",
          "data": {
            "text/plain": [
              "tensor([[0.8685],\n",
              "        [0.8825],\n",
              "        [0.8965],\n",
              "        [0.9105],\n",
              "        [0.9245],\n",
              "        [0.9384],\n",
              "        [0.9524],\n",
              "        [0.9664],\n",
              "        [0.9804],\n",
              "        [0.9944]])"
            ]
          },
          "metadata": {},
          "execution_count": 33
        }
      ]
    },
    {
      "cell_type": "code",
      "source": [
        "y_pred_new == y_pred_loaded"
      ],
      "metadata": {
        "colab": {
          "base_uri": "https://localhost:8080/"
        },
        "id": "ZBsXhOcCGVaC",
        "outputId": "ef721dc0-5593-45b7-c937-c93cfb24b9b3"
      },
      "execution_count": null,
      "outputs": [
        {
          "output_type": "execute_result",
          "data": {
            "text/plain": [
              "tensor([[True],\n",
              "        [True],\n",
              "        [True],\n",
              "        [True],\n",
              "        [True],\n",
              "        [True],\n",
              "        [True],\n",
              "        [True],\n",
              "        [True],\n",
              "        [True]])"
            ]
          },
          "metadata": {},
          "execution_count": 34
        }
      ]
    },
    {
      "cell_type": "code",
      "source": [
        "device = \"cuda\" if torch.cuda.is_available() else \"cpu\"\n",
        "device"
      ],
      "metadata": {
        "colab": {
          "base_uri": "https://localhost:8080/",
          "height": 35
        },
        "id": "d1NJjJF_Gkch",
        "outputId": "73f4e5be-29a1-442b-81b1-ccdb933905d2"
      },
      "execution_count": null,
      "outputs": [
        {
          "output_type": "execute_result",
          "data": {
            "text/plain": [
              "'cpu'"
            ],
            "application/vnd.google.colaboratory.intrinsic+json": {
              "type": "string"
            }
          },
          "metadata": {},
          "execution_count": 35
        }
      ]
    },
    {
      "cell_type": "code",
      "source": [
        "# create some data usinfg linear regression\n",
        "weight , bias\n"
      ],
      "metadata": {
        "colab": {
          "base_uri": "https://localhost:8080/"
        },
        "id": "ZA5zCUVYHMQ9",
        "outputId": "6cb8c7ee-a6de-4d36-8cd8-db7a866f2b1e"
      },
      "execution_count": null,
      "outputs": [
        {
          "output_type": "execute_result",
          "data": {
            "text/plain": [
              "(0.7, 0.3)"
            ]
          },
          "metadata": {},
          "execution_count": 36
        }
      ]
    },
    {
      "cell_type": "markdown",
      "source": [
        "**Extra curriculum**"
      ],
      "metadata": {
        "id": "ZzU7N5SOJfx6"
      }
    },
    {
      "cell_type": "code",
      "source": [
        "w = 0.3\n",
        "b = 0.9\n",
        "X = torch.arange(start=0, end=1000, step=2).unsqueeze(dim=1)\n",
        "y = w * X + b\n",
        "X[:10], y[:10]"
      ],
      "metadata": {
        "colab": {
          "base_uri": "https://localhost:8080/"
        },
        "id": "U43ANpswJeQm",
        "outputId": "776126dc-1485-42f1-be65-fef81fe6c4c1"
      },
      "execution_count": null,
      "outputs": [
        {
          "output_type": "execute_result",
          "data": {
            "text/plain": [
              "(tensor([[ 0],\n",
              "         [ 2],\n",
              "         [ 4],\n",
              "         [ 6],\n",
              "         [ 8],\n",
              "         [10],\n",
              "         [12],\n",
              "         [14],\n",
              "         [16],\n",
              "         [18]]),\n",
              " tensor([[0.9000],\n",
              "         [1.5000],\n",
              "         [2.1000],\n",
              "         [2.7000],\n",
              "         [3.3000],\n",
              "         [3.9000],\n",
              "         [4.5000],\n",
              "         [5.1000],\n",
              "         [5.7000],\n",
              "         [6.3000]]))"
            ]
          },
          "metadata": {},
          "execution_count": 37
        }
      ]
    },
    {
      "cell_type": "code",
      "source": [
        "split_data = int(0.8 * len(X))\n",
        "X_train , y_train = X[:split_data], y[:split_data]\n",
        "X_test, y_test = X[split_data:], y[split_data:]\n",
        "len(X_train), len(y_train), len(X_test), len(y_test)"
      ],
      "metadata": {
        "colab": {
          "base_uri": "https://localhost:8080/"
        },
        "id": "nvT9TZk0Ov4h",
        "outputId": "4d03c616-d1a8-41c2-98d7-d91ef48de846"
      },
      "execution_count": null,
      "outputs": [
        {
          "output_type": "execute_result",
          "data": {
            "text/plain": [
              "(400, 400, 100, 100)"
            ]
          },
          "metadata": {},
          "execution_count": 38
        }
      ]
    },
    {
      "cell_type": "code",
      "source": [
        "def plot_data(train_data=X_train,\n",
        "                    train_labels=y_train,\n",
        "                    test_data=X_test,\n",
        "                    test_labels=y_test,\n",
        "                    predictions=None):\n",
        "  plt.figure(figsize=(10, 6))\n",
        "  plt.scatter(train_data, train_labels, c=\"b\", s=4, label=\"Training_data\")\n",
        "  plt.scatter(test_data, test_labels, c=\"g\", s=4, label=\"Testing_data\")\n",
        "  if predictions is not None:\n",
        "    plt.scatter(test_data, predictions, c=\"r\", s=4, label=\"Predictions\")\n",
        "  plt.legend(prop={\"size\":12})"
      ],
      "metadata": {
        "id": "8MEtNywbQ3Ls"
      },
      "execution_count": null,
      "outputs": []
    },
    {
      "cell_type": "code",
      "source": [
        "plot_data()"
      ],
      "metadata": {
        "colab": {
          "base_uri": "https://localhost:8080/",
          "height": 522
        },
        "id": "93js8bvqR407",
        "outputId": "201d96a6-8930-4f1b-d54a-2142684b0de9"
      },
      "execution_count": null,
      "outputs": [
        {
          "output_type": "display_data",
          "data": {
            "text/plain": [
              "<Figure size 1000x600 with 1 Axes>"
            ],
            "image/png": "[encoded data removed]"
          },
          "metadata": {}
        }
      ]
    },
    {
      "cell_type": "code",
      "source": [
        "class LinearRegression(nn.Module):\n",
        "  def __init__(self):\n",
        "    super().__init__()\n",
        "    self.weights = nn.Parameter(torch.randn(1, requires_grad=True, dtype=torch.float32))\n",
        "    self.bias = nn.Parameter(torch.randn(1, requires_grad=True, dtype=torch.float32))\n",
        "\n",
        "  def forward(self, x:torch.tensor) -> torch.Tensor:\n",
        "    return self.weights * x + self.bias"
      ],
      "metadata": {
        "id": "zTxsK52PSDt7"
      },
      "execution_count": null,
      "outputs": []
    },
    {
      "cell_type": "code",
      "source": [
        "torch.manual_seed(45)\n",
        "\n",
        "lr = LinearRegression()\n",
        "lr.state_dict()"
      ],
      "metadata": {
        "colab": {
          "base_uri": "https://localhost:8080/"
        },
        "id": "P1N81EvBWSC5",
        "outputId": "1604a753-0165-4c3b-d670-f34f6fe81d9d"
      },
      "execution_count": null,
      "outputs": [
        {
          "output_type": "execute_result",
          "data": {
            "text/plain": [
              "OrderedDict([('weights', tensor([-1.1224])), ('bias', tensor([0.0312]))])"
            ]
          },
          "metadata": {},
          "execution_count": 42
        }
      ]
    },
    {
      "cell_type": "code",
      "source": [
        "with torch.inference_mode():\n",
        "  y_pred = lr(X_test)\n",
        "y_pred[:10]"
      ],
      "metadata": {
        "colab": {
          "base_uri": "https://localhost:8080/"
        },
        "id": "tr0Jumx5Xq1a",
        "outputId": "4414353e-fc71-4e3d-fa4d-b323b1073c09"
      },
      "execution_count": null,
      "outputs": [
        {
          "output_type": "execute_result",
          "data": {
            "text/plain": [
              "tensor([[-897.8663],\n",
              "        [-900.1111],\n",
              "        [-902.3558],\n",
              "        [-904.6006],\n",
              "        [-906.8453],\n",
              "        [-909.0901],\n",
              "        [-911.3348],\n",
              "        [-913.5795],\n",
              "        [-915.8243],\n",
              "        [-918.0690]])"
            ]
          },
          "metadata": {},
          "execution_count": 43
        }
      ]
    },
    {
      "cell_type": "code",
      "source": [
        "plot_data(predictions=y_pred)"
      ],
      "metadata": {
        "colab": {
          "base_uri": "https://localhost:8080/",
          "height": 522
        },
        "id": "ZsF85qAIX4r5",
        "outputId": "13842425-a0b2-444e-8350-8be5c78fdf18"
      },
      "execution_count": null,
      "outputs": [
        {
          "output_type": "display_data",
          "data": {
            "text/plain": [
              "<Figure size 1000x600 with 1 Axes>"
            ],
            "image/png": "[encoded data removed]"
          },
          "metadata": {}
        }
      ]
    },
    {
      "cell_type": "code",
      "source": [
        "loss_l1 = nn.L1Loss()\n",
        "optimizer = torch.optim.Adam(params=lr.parameters(), lr=0.01)"
      ],
      "metadata": {
        "id": "sNAdnx6dW15z"
      },
      "execution_count": null,
      "outputs": []
    },
    {
      "cell_type": "code",
      "source": [
        "list(lr.parameters())"
      ],
      "metadata": {
        "colab": {
          "base_uri": "https://localhost:8080/"
        },
        "id": "xkC3KQYeeEXv",
        "outputId": "cab2ee85-3102-46f8-9b8f-16d0014a5552"
      },
      "execution_count": null,
      "outputs": [
        {
          "output_type": "execute_result",
          "data": {
            "text/plain": [
              "[Parameter containing:\n",
              " tensor([-1.1224], requires_grad=True),\n",
              " Parameter containing:\n",
              " tensor([0.0312], requires_grad=True)]"
            ]
          },
          "metadata": {},
          "execution_count": 46
        }
      ]
    },
    {
      "cell_type": "code",
      "source": [
        "torch.manual_seed(45)\n",
        "epochs = 600\n",
        "epoch_count = []\n",
        "train_loss_values = []\n",
        "test_loss_values = []\n",
        "\n",
        "for epoch in range(epochs):\n",
        "  lr.train()\n",
        "  y_pred = lr(X_train)\n",
        "  loss = loss_l1(y_pred, y_train)\n",
        "  epoch_count.append(epoch)\n",
        "  train_loss_values.append(loss)\n",
        "\n",
        "  optimizer.zero_grad()\n",
        "  loss.backward()\n",
        "  optimizer.step()\n",
        "\n",
        "  lr.eval()\n",
        "  with torch.no_grad():\n",
        "      test_pred = lr(X_test)\n",
        "      test_loss = loss_l1(test_pred, y_test)\n",
        "      test_loss_values.append(test_loss)\n",
        "\n",
        "  if epoch % 100 == 0:\n",
        "      print(f\"Epoch: {epoch} | Train Loss : {loss} | Test Loss: {test_loss}\")\n",
        "\n"
      ],
      "metadata": {
        "colab": {
          "base_uri": "https://localhost:8080/"
        },
        "id": "pJIAs2WGYAyb",
        "outputId": "05b50855-f1a1-400a-d208-ec9d22b94337"
      },
      "execution_count": null,
      "outputs": [
        {
          "output_type": "stream",
          "name": "stdout",
          "text": [
            "Epoch: 0 | Train Loss : 568.3952026367188 | Test Loss: 1270.581298828125\n",
            "Epoch: 100 | Train Loss : 168.3965301513672 | Test Loss: 370.5823059082031\n",
            "Epoch: 200 | Train Loss : 0.5100334286689758 | Test Loss: 0.06575042754411697\n",
            "Epoch: 300 | Train Loss : 0.5318871736526489 | Test Loss: 1.8643831014633179\n",
            "Epoch: 400 | Train Loss : 0.7864398956298828 | Test Loss: 1.3810304403305054\n",
            "Epoch: 500 | Train Loss : 0.5943301320075989 | Test Loss: 0.7474615573883057\n"
          ]
        }
      ]
    },
    {
      "cell_type": "code",
      "source": [
        "lr.state_dict()"
      ],
      "metadata": {
        "colab": {
          "base_uri": "https://localhost:8080/"
        },
        "id": "NNdQQmdoaejc",
        "outputId": "aaa27023-1490-41d4-86ba-0406748f5b44"
      },
      "execution_count": null,
      "outputs": [
        {
          "output_type": "execute_result",
          "data": {
            "text/plain": [
              "OrderedDict([('weights', tensor([0.3006])), ('bias', tensor([0.9014]))])"
            ]
          },
          "metadata": {},
          "execution_count": 48
        }
      ]
    },
    {
      "cell_type": "code",
      "source": [
        "with torch.inference_mode():\n",
        "  y_pred_new = lr(X_test)\n",
        "y_pred_new[:10]"
      ],
      "metadata": {
        "colab": {
          "base_uri": "https://localhost:8080/"
        },
        "id": "vlIPbeLghb9B",
        "outputId": "4b095d7c-ddf5-4c94-cafb-6edcd55da152"
      },
      "execution_count": null,
      "outputs": [
        {
          "output_type": "execute_result",
          "data": {
            "text/plain": [
              "tensor([[241.3549],\n",
              "        [241.9561],\n",
              "        [242.5572],\n",
              "        [243.1584],\n",
              "        [243.7595],\n",
              "        [244.3606],\n",
              "        [244.9617],\n",
              "        [245.5629],\n",
              "        [246.1640],\n",
              "        [246.7652]])"
            ]
          },
          "metadata": {},
          "execution_count": 49
        }
      ]
    },
    {
      "cell_type": "code",
      "source": [
        "plot_data(predictions=y_pred_new)"
      ],
      "metadata": {
        "colab": {
          "base_uri": "https://localhost:8080/",
          "height": 522
        },
        "id": "ZFyJH_bYjUMJ",
        "outputId": "03a1a7fb-1415-4cdd-926d-587d2df2a62c"
      },
      "execution_count": null,
      "outputs": [
        {
          "output_type": "display_data",
          "data": {
            "text/plain": [
              "<Figure size 1000x600 with 1 Axes>"
            ],
            "image/png": "[encoded data removed]"
          },
          "metadata": {}
        }
      ]
    },
    {
      "cell_type": "code",
      "source": [
        "plt.plot(epoch_count[:200], torch.tensor(train_loss_values[:200]), label=\"Train_loss\")\n",
        "plt.plot(epoch_count[:200], test_loss_values[:200], label=\"Test_loss\")\n",
        "plt.title(\"Training and test loss curves\")\n",
        "plt.ylabel(\"Loss\")\n",
        "plt.xlabel(\"Epochs\")\n",
        "plt.legend()"
      ],
      "metadata": {
        "colab": {
          "base_uri": "https://localhost:8080/",
          "height": 489
        },
        "id": "3q7-I9ItjYPc",
        "outputId": "e1c3a7f2-1485-493c-cfe4-20958fc5dfb3"
      },
      "execution_count": null,
      "outputs": [
        {
          "output_type": "execute_result",
          "data": {
            "text/plain": [
              "<matplotlib.legend.Legend at 0x786887bcb040>"
            ]
          },
          "metadata": {},
          "execution_count": 51
        },
        {
          "output_type": "display_data",
          "data": {
            "text/plain": [
              "<Figure size 640x480 with 1 Axes>"
            ],
            "image/png": "[encoded data removed]"
          },
          "metadata": {}
        }
      ]
    },
    {
      "cell_type": "code",
      "source": [
        "class LinearRegressionV3(nn.Module):\n",
        "  def __init__(self):\n",
        "    super().__init__()\n",
        "    self.linear = nn.Linear(in_features=1,\n",
        "                            out_features=1,\n",
        "                            dtype=torch.float32)\n",
        "\n",
        "  def forward(self, x:torch.tensor) -> torch.Tensor:\n",
        "    return self.linear(x)\n"
      ],
      "metadata": {
        "id": "NsyI6phWjpvL"
      },
      "execution_count": null,
      "outputs": []
    },
    {
      "cell_type": "code",
      "source": [
        "torch.manual_seed(24)\n",
        "\n",
        "model_1 = LinearRegressionV3()\n",
        "model_1.state_dict()"
      ],
      "metadata": {
        "id": "-79ETDl7kHfU",
        "colab": {
          "base_uri": "https://localhost:8080/"
        },
        "outputId": "67d6f519-4878-41d6-cffa-637d878d6805"
      },
      "execution_count": null,
      "outputs": [
        {
          "output_type": "execute_result",
          "data": {
            "text/plain": [
              "OrderedDict([('linear.weight', tensor([[0.5289]])),\n",
              "             ('linear.bias', tensor([-0.2499]))])"
            ]
          },
          "metadata": {},
          "execution_count": 72
        }
      ]
    },
    {
      "cell_type": "code",
      "source": [
        "model_1"
      ],
      "metadata": {
        "colab": {
          "base_uri": "https://localhost:8080/"
        },
        "id": "XxlUh2se917R",
        "outputId": "9bd07f57-4653-4491-f0f3-2a883ff55541"
      },
      "execution_count": null,
      "outputs": [
        {
          "output_type": "execute_result",
          "data": {
            "text/plain": [
              "LinearRegressionV3(\n",
              "  (linear): Linear(in_features=1, out_features=1, bias=True)\n",
              ")"
            ]
          },
          "metadata": {},
          "execution_count": 73
        }
      ]
    },
    {
      "cell_type": "code",
      "source": [
        "device = \"cuda\" if torch.cuda.is_available() else \"cpu\"\n",
        "device"
      ],
      "metadata": {
        "colab": {
          "base_uri": "https://localhost:8080/",
          "height": 35
        },
        "id": "7oLb4VLk-dnG",
        "outputId": "3eb00c27-3f07-4839-8579-53607c34c761"
      },
      "execution_count": null,
      "outputs": [
        {
          "output_type": "execute_result",
          "data": {
            "text/plain": [
              "'cpu'"
            ],
            "application/vnd.google.colaboratory.intrinsic+json": {
              "type": "string"
            }
          },
          "metadata": {},
          "execution_count": 74
        }
      ]
    },
    {
      "cell_type": "code",
      "source": [
        "model_1.to(device)\n",
        "next(model_1.parameters()).device"
      ],
      "metadata": {
        "colab": {
          "base_uri": "https://localhost:8080/"
        },
        "id": "acomMz5F-hiP",
        "outputId": "5c908cb5-0e1d-42c4-83ea-c358ad22ff02"
      },
      "execution_count": null,
      "outputs": [
        {
          "output_type": "execute_result",
          "data": {
            "text/plain": [
              "device(type='cpu')"
            ]
          },
          "metadata": {},
          "execution_count": 75
        }
      ]
    },
    {
      "cell_type": "code",
      "source": [
        "loss_fn = nn.L1Loss()\n",
        "optimizer = torch.optim.Adam(params=model_1.parameters(), lr = 0.01)\n"
      ],
      "metadata": {
        "id": "s3i8X-5L_DQU"
      },
      "execution_count": null,
      "outputs": []
    },
    {
      "cell_type": "code",
      "source": [
        "list(model_1.parameters())"
      ],
      "metadata": {
        "colab": {
          "base_uri": "https://localhost:8080/"
        },
        "id": "znLrz1V1Codo",
        "outputId": "ce2ac76c-0977-4012-a665-be1ed719c7ea"
      },
      "execution_count": null,
      "outputs": [
        {
          "output_type": "execute_result",
          "data": {
            "text/plain": [
              "[Parameter containing:\n",
              " tensor([[0.2997]], requires_grad=True),\n",
              " Parameter containing:\n",
              " tensor([0.8995], requires_grad=True)]"
            ]
          },
          "metadata": {},
          "execution_count": 93
        }
      ]
    },
    {
      "cell_type": "code",
      "source": [
        "X_train = X_train.float()\n",
        "X_test = X_test.float()\n",
        "y_train = y_train.float()\n",
        "y_test = y_test.float()"
      ],
      "metadata": {
        "id": "IG6r0LInByFu"
      },
      "execution_count": null,
      "outputs": []
    },
    {
      "cell_type": "code",
      "source": [
        "torch.manual_seed(24)\n",
        "epochs = 200\n",
        "\n",
        "for epoch in range(epochs):\n",
        "  model_1.train()\n",
        "\n",
        "  y_pred = model_1(X_train)\n",
        "  loss = loss_fn(y_pred, y_train)\n",
        "  optimizer.zero_grad()\n",
        "  loss.backward()\n",
        "  optimizer.step()\n",
        "\n",
        "  model_1.eval()\n",
        "  with torch.inference_mode():\n",
        "    y_test_pred = model_1(X_test)\n",
        "    test_loss = loss_fn(y_test_pred, y_test)\n",
        "\n",
        "  if epoch % 10 == 0:\n",
        "    print(f\"Epoch: {epoch} | Loss: {loss} | Test loss: {test_loss}\")\n",
        "\n"
      ],
      "metadata": {
        "colab": {
          "base_uri": "https://localhost:8080/"
        },
        "id": "xhw0lE75_iw0",
        "outputId": "b71a1ba1-ca7c-49a9-cc28-293c0b19342e"
      },
      "execution_count": null,
      "outputs": [
        {
          "output_type": "stream",
          "name": "stdout",
          "text": [
            "Epoch: 0 | Loss: 0.10306183993816376 | Test loss: 8.768401145935059\n",
            "Epoch: 10 | Loss: 0.1112377941608429 | Test loss: 1.3127870559692383\n",
            "Epoch: 20 | Loss: 1.166957139968872 | Test loss: 1.5307981967926025\n",
            "Epoch: 30 | Loss: 0.45487603545188904 | Test loss: 0.15107375383377075\n",
            "Epoch: 40 | Loss: 0.18906550109386444 | Test loss: 1.1338911056518555\n",
            "Epoch: 50 | Loss: 0.6777691841125488 | Test loss: 2.117166519165039\n",
            "Epoch: 60 | Loss: 0.3788365423679352 | Test loss: 0.2932894825935364\n",
            "Epoch: 70 | Loss: 0.7731944918632507 | Test loss: 0.5064297318458557\n",
            "Epoch: 80 | Loss: 0.18758472800254822 | Test loss: 0.36155030131340027\n",
            "Epoch: 90 | Loss: 0.6680834889411926 | Test loss: 2.411668062210083\n",
            "Epoch: 100 | Loss: 0.07416865974664688 | Test loss: 0.9085534811019897\n",
            "Epoch: 110 | Loss: 1.0350459814071655 | Test loss: 1.3546781539916992\n",
            "Epoch: 120 | Loss: 0.43381744623184204 | Test loss: 0.13720688223838806\n",
            "Epoch: 130 | Loss: 0.18771769106388092 | Test loss: 1.1213990449905396\n",
            "Epoch: 140 | Loss: 0.6746899485588074 | Test loss: 2.107516050338745\n",
            "Epoch: 150 | Loss: 0.37812864780426025 | Test loss: 0.2930218577384949\n",
            "Epoch: 160 | Loss: 0.77257239818573 | Test loss: 0.5057340860366821\n",
            "Epoch: 170 | Loss: 0.18763315677642822 | Test loss: 0.36128371953964233\n",
            "Epoch: 180 | Loss: 0.668143093585968 | Test loss: 2.4117472171783447\n",
            "Epoch: 190 | Loss: 0.07407352328300476 | Test loss: 0.9087388515472412\n"
          ]
        }
      ]
    },
    {
      "cell_type": "code",
      "source": [
        "model_1.state_dict()"
      ],
      "metadata": {
        "colab": {
          "base_uri": "https://localhost:8080/"
        },
        "id": "RX7cq4LUAjaA",
        "outputId": "73ef24e9-bd9f-44c4-cb14-2e6361704282"
      },
      "execution_count": null,
      "outputs": [
        {
          "output_type": "execute_result",
          "data": {
            "text/plain": [
              "OrderedDict([('linear.weight', tensor([[0.3026]])),\n",
              "             ('linear.bias', tensor([0.9025]))])"
            ]
          },
          "metadata": {},
          "execution_count": 96
        }
      ]
    },
    {
      "cell_type": "code",
      "source": [
        "w, b"
      ],
      "metadata": {
        "colab": {
          "base_uri": "https://localhost:8080/"
        },
        "id": "rLITNZxBCSFd",
        "outputId": "f1425ead-9fe3-42a2-ede7-79e9fcca0a07"
      },
      "execution_count": null,
      "outputs": [
        {
          "output_type": "execute_result",
          "data": {
            "text/plain": [
              "(0.3, 0.9)"
            ]
          },
          "metadata": {},
          "execution_count": 97
        }
      ]
    },
    {
      "cell_type": "code",
      "source": [],
      "metadata": {
        "id": "SljoCBZ1DtYH"
      },
      "execution_count": null,
      "outputs": []
    }
  ]
}